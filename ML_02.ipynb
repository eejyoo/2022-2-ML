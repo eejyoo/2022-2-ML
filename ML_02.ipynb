{
  "nbformat": 4,
  "nbformat_minor": 0,
  "metadata": {
    "colab": {
      "provenance": [],
      "collapsed_sections": [],
      "authorship_tag": "ABX9TyPsYR+rWC++eepEMmDKd8EC",
      "include_colab_link": true
    },
    "kernelspec": {
      "name": "python3",
      "display_name": "Python 3"
    },
    "language_info": {
      "name": "python"
    }
  },
  "cells": [
    {
      "cell_type": "markdown",
      "metadata": {
        "id": "view-in-github",
        "colab_type": "text"
      },
      "source": [
        "<a href=\"https://colab.research.google.com/github/eejyoo/2022-2-ML/blob/main/ML_02.ipynb\" target=\"_parent\"><img src=\"https://colab.research.google.com/assets/colab-badge.svg\" alt=\"Open In Colab\"/></a>"
      ]
    },
    {
      "cell_type": "markdown",
      "source": [
        "#2.데이터 다루기(1) "
      ],
      "metadata": {
        "id": "E0gU5ZWMLndl"
      }
    },
    {
      "cell_type": "markdown",
      "source": [
        "#(1) Python 프로그래밍"
      ],
      "metadata": {
        "id": "F-K8CIUKjZDf"
      }
    },
    {
      "cell_type": "code",
      "source": [
        "# 학번과 이름을 입력받아 예시와 같이 출력하시오.\n",
        "# 출력 예시: 10800 만두님, 안녕하세요!\n"
      ],
      "metadata": {
        "id": "BQu89vI7jd0U"
      },
      "execution_count": null,
      "outputs": []
    },
    {
      "cell_type": "markdown",
      "source": [
        "**[1. 리스트]**\n",
        " - 숫자나 문자의 모음을 저장할 수 있는 자료구조<br>\n",
        "\n",
        "<b>** 리스트의 생성</b>\n",
        " - <b>리스트명[요소1, 요소2, 요소3]</b>과 같은 형식으로 생성"
      ],
      "metadata": {
        "id": "w7WkRnKZ39hu"
      }
    },
    {
      "cell_type": "code",
      "source": [
        "a = []\n",
        "b = [1, 2, 3, 4, 5]\n",
        "c = ['서울', '용산', '고등학교']"
      ],
      "metadata": {
        "id": "q0OcuLw43swo"
      },
      "execution_count": null,
      "outputs": []
    },
    {
      "cell_type": "markdown",
      "source": [
        "<b>** 인덱싱 & 슬라이싱</b>\n",
        " - 인덱스는 0부터 시작함\n",
        " - 인덱스의 -1은 마지막 요소를 의미함\n",
        " - 슬라이싱은 구하고자 하는 인덱스를 <b>[시작인덱스:마지막인덱스+1]</b>로 표현함\n",
        " - 슬라이싱 인덱스를 생략하면 처음인덱스와 끝인덱스가 적용됨"
      ],
      "metadata": {
        "id": "mimDIaRe4sdG"
      }
    },
    {
      "cell_type": "code",
      "source": [
        "# 1, 2, 3"
      ],
      "metadata": {
        "id": "rAPfZ6FKrbD2"
      },
      "execution_count": null,
      "outputs": []
    },
    {
      "cell_type": "code",
      "source": [
        "# 3, 4"
      ],
      "metadata": {
        "id": "INkrbmyKrhAM"
      },
      "execution_count": null,
      "outputs": []
    },
    {
      "cell_type": "code",
      "source": [
        "# 2, 3, 4, 5"
      ],
      "metadata": {
        "id": "ld4axFuQripu"
      },
      "execution_count": null,
      "outputs": []
    },
    {
      "cell_type": "code",
      "source": [
        "# '고등학교'"
      ],
      "metadata": {
        "id": "Haqs4XhWrlNg"
      },
      "execution_count": null,
      "outputs": []
    },
    {
      "cell_type": "code",
      "source": [
        "# '서울'을 '대전'으로 수정하시오."
      ],
      "metadata": {
        "id": "WSaVfUyUsHFq"
      },
      "execution_count": null,
      "outputs": []
    },
    {
      "cell_type": "markdown",
      "source": [
        "<b>** 리스트 관련 함수들</b>\n",
        " - append: 마지막에 추가\n",
        " - sort: 오름차순 정렬\n",
        " - reverse: 뒤집기\n",
        " - index: 위치 반환\n",
        " - insert: 지정된 위치에 삽입\n",
        " - remove: 삭제\n",
        " - pop: 마지막 요소 반환하고 리스트에서 삭제\n",
        " - count: 개수 세기"
      ],
      "metadata": {
        "id": "k1Fxs09s5cjF"
      }
    },
    {
      "cell_type": "code",
      "source": [
        "a = [3, 1, 2]"
      ],
      "metadata": {
        "id": "Z7xUVpVv6OFX"
      },
      "execution_count": null,
      "outputs": []
    },
    {
      "cell_type": "code",
      "source": [
        "# a 리스트의 마지막에 4를 추가하시오."
      ],
      "metadata": {
        "id": "I0XFMwmI6QkH"
      },
      "execution_count": null,
      "outputs": []
    },
    {
      "cell_type": "code",
      "source": [
        "# a 리스트를 오름차순으로 정렬하시오."
      ],
      "metadata": {
        "id": "9Se7K0G86XPG"
      },
      "execution_count": null,
      "outputs": []
    },
    {
      "cell_type": "code",
      "source": [
        "# a 리스트를 역순으로 변경하시오."
      ],
      "metadata": {
        "id": "XjMAFnSW6aaD"
      },
      "execution_count": null,
      "outputs": []
    },
    {
      "cell_type": "code",
      "source": [
        "# a 리스트에서 3의 위치를 반환하시오."
      ],
      "metadata": {
        "id": "STto3agR6iX4"
      },
      "execution_count": null,
      "outputs": []
    },
    {
      "cell_type": "code",
      "source": [
        "# a 리스트에서 1번 인덱스에 5를 삽입하시오."
      ],
      "metadata": {
        "id": "yF5TC28W6mz5"
      },
      "execution_count": null,
      "outputs": []
    },
    {
      "cell_type": "code",
      "source": [
        "# a 리스트에서 2를 삭제하시오."
      ],
      "metadata": {
        "id": "p7LFuxJ46rqm"
      },
      "execution_count": null,
      "outputs": []
    },
    {
      "cell_type": "code",
      "source": [
        "# a 리스트의 마지막 요소를 출력하고 리스트에서 삭제하시오."
      ],
      "metadata": {
        "id": "eeFP6I916xl5"
      },
      "execution_count": null,
      "outputs": []
    },
    {
      "cell_type": "code",
      "source": [
        "# a 리스트의 요소 개수를 세시오."
      ],
      "metadata": {
        "id": "OG_oUCO261d4"
      },
      "execution_count": null,
      "outputs": []
    },
    {
      "cell_type": "markdown",
      "source": [
        "<b>** 조건문</b><br>\n",
        "if 조건1:<br>\n",
        "&nbsp;&nbsp;&nbsp;&nbsp;실행할 문장1<br>\n",
        "&nbsp;&nbsp;&nbsp;&nbsp;실행할 문장2<br>\n",
        "elif 조건2:<br>\n",
        "&nbsp;&nbsp;&nbsp;&nbsp;실행할 문장1<br>\n",
        "&nbsp;&nbsp;&nbsp;&nbsp;실행할 문장2<br>\n",
        "else:<br>\n",
        "&nbsp;&nbsp;&nbsp;&nbsp;실행할 문장"
      ],
      "metadata": {
        "id": "3nvEStUsscDV"
      }
    },
    {
      "cell_type": "code",
      "source": [
        "# 정수를 입력받아 '양의 정수', '음의 정수', '0'으로 구분하여 출력하시오."
      ],
      "metadata": {
        "id": "_uzVjnuLuKvi"
      },
      "execution_count": null,
      "outputs": []
    },
    {
      "cell_type": "markdown",
      "source": [
        "<b>** 반복문</b><br>\n",
        "for 변수 in 리스트(또는 튜플, 문자열):<br>\n",
        "&nbsp;&nbsp;&nbsp;&nbsp;실행할 문장1<br>\n",
        "&nbsp;&nbsp;&nbsp;&nbsp;실행할 문장2"
      ],
      "metadata": {
        "id": "-8i_sYGLuMvx"
      }
    },
    {
      "cell_type": "code",
      "source": [
        "# 숫자를 5번 입력받고 출력하시오."
      ],
      "metadata": {
        "id": "pRtQ8PWUcr4S"
      },
      "execution_count": null,
      "outputs": []
    },
    {
      "cell_type": "code",
      "source": [
        "# 숫자를 5번 입력받고 출력하시오. - 변수"
      ],
      "metadata": {
        "id": "mih-ONVCfubc"
      },
      "execution_count": null,
      "outputs": []
    },
    {
      "cell_type": "code",
      "source": [
        "# 숫자를 5번 입력받고 출력하시오. - 리스트"
      ],
      "metadata": {
        "id": "865HNMr5fwcx"
      },
      "execution_count": null,
      "outputs": []
    },
    {
      "cell_type": "code",
      "source": [
        "# 리스트 중 0, 2, 4번지의 값을 출력하시오."
      ],
      "metadata": {
        "id": "spq1OFeQh2cd"
      },
      "execution_count": null,
      "outputs": []
    },
    {
      "cell_type": "code",
      "source": [
        "# 리스트의 값을 하나씩 출력하시오."
      ],
      "metadata": {
        "id": "jg06-KHzgHdc"
      },
      "execution_count": null,
      "outputs": []
    },
    {
      "cell_type": "code",
      "source": [
        "# 리스트의 값을 3배씩 하여 result에 저장하시오.\n",
        "\n",
        "nums = [1, 2, 3, 4]\n",
        "result = []\n"
      ],
      "metadata": {
        "id": "sivHmevVh1ZE"
      },
      "execution_count": null,
      "outputs": []
    },
    {
      "cell_type": "code",
      "source": [
        "# 위 코드를 줄여서 해볼까?\n",
        "\n",
        "nums = [1, 2, 3, 4]\n",
        "result = []\n"
      ],
      "metadata": {
        "id": "d5-1OV9Eijc0"
      },
      "execution_count": null,
      "outputs": []
    },
    {
      "cell_type": "code",
      "source": [
        "# 짝수만 3배 곱해 저장하시오.\n",
        "\n",
        "nums = [1, 2, 3, 4]\n",
        "result = []\n"
      ],
      "metadata": {
        "id": "HghUso_8iqXq"
      },
      "execution_count": null,
      "outputs": []
    },
    {
      "cell_type": "markdown",
      "source": [
        "#(2) Numpy 프로그래밍"
      ],
      "metadata": {
        "id": "wvQqvih0jRBp"
      }
    },
    {
      "cell_type": "markdown",
      "source": [
        "- 파이썬의 고성능 과학 계산용 패키지\n",
        "- 파이썬 list에 비해 빠르고 메모리 효율적"
      ],
      "metadata": {
        "id": "LJ2-sfJ3qqs9"
      }
    },
    {
      "cell_type": "markdown",
      "source": [
        "(1) 배열 생성\n",
        "- import 를 사용하여 라이브러리 추가\n",
        "- np라는 별칭을 사용함\n",
        "- np.array 함수를 사용하여 배열 생성\n",
        "- numpy의 배열은 동일한 데이터 타입만 저장할 수 있음(list와 다른점)\n",
        "- C의 Array를 사용하여 배열을 생성(처리속도 빠름)"
      ],
      "metadata": {
        "id": "MCws634QjdWt"
      }
    },
    {
      "cell_type": "code",
      "source": [
        "import numpy as np\n",
        "arr = np.array([1,2,3,4])\n",
        "arr"
      ],
      "metadata": {
        "colab": {
          "base_uri": "https://localhost:8080/"
        },
        "id": "P6seFUCujtsW",
        "outputId": "fca99567-00c6-45d2-de79-cbe70e28d5d0"
      },
      "execution_count": null,
      "outputs": [
        {
          "output_type": "execute_result",
          "data": {
            "text/plain": [
              "array([1, 2, 3, 4])"
            ]
          },
          "metadata": {},
          "execution_count": 10
        }
      ]
    },
    {
      "cell_type": "code",
      "source": [
        "arr[3]"
      ],
      "metadata": {
        "id": "b3lj3ehRjzpn"
      },
      "execution_count": null,
      "outputs": []
    },
    {
      "cell_type": "markdown",
      "source": [
        "- 벡터화 연산 가능"
      ],
      "metadata": {
        "id": "QW14WwhykjfR"
      }
    },
    {
      "cell_type": "code",
      "source": [
        "data = [0,1,2,3,4,5,6,7,8,9]\n",
        "result = [i*2 for i in data]\n",
        "result"
      ],
      "metadata": {
        "colab": {
          "base_uri": "https://localhost:8080/"
        },
        "id": "8oEknYqcj1BS",
        "outputId": "5fc7d487-00d2-4ac8-952f-f47ba1ee4f21"
      },
      "execution_count": null,
      "outputs": [
        {
          "output_type": "execute_result",
          "data": {
            "text/plain": [
              "[0, 2, 4, 6, 8, 10, 12, 14, 16, 18]"
            ]
          },
          "metadata": {},
          "execution_count": 8
        }
      ]
    },
    {
      "cell_type": "markdown",
      "source": [
        "(2) ndarray의 속성\n",
        " - dtype: 데이터 타입\n",
        " - shape: 배열의 모양\n",
        " - ndim: 차원의 개수\n",
        " - size: 데이터의 개수"
      ],
      "metadata": {
        "id": "nAtovU-tkrum"
      }
    },
    {
      "cell_type": "code",
      "source": [],
      "metadata": {
        "id": "1wPvp3c3k5Rs"
      },
      "execution_count": null,
      "outputs": []
    },
    {
      "cell_type": "markdown",
      "source": [
        "Q. 다음과 같이 2차원 배열을 생성하고, 배열의 모양과 차원, 데이터의 개수를 출력하시오.<br>\n",
        "&nbsp;&nbsp;&nbsp;&nbsp;&nbsp;&nbsp;1&nbsp;&nbsp;&nbsp;&nbsp;&nbsp;&nbsp;2&nbsp;&nbsp;&nbsp;&nbsp;&nbsp;&nbsp;3<br>\n",
        "&nbsp;&nbsp;&nbsp;&nbsp;&nbsp;&nbsp;4&nbsp;&nbsp;&nbsp;&nbsp;&nbsp;&nbsp;5&nbsp;&nbsp;&nbsp;&nbsp;&nbsp;&nbsp;6"
      ],
      "metadata": {
        "id": "bBmlGDiVk_Q7"
      }
    },
    {
      "cell_type": "code",
      "source": [],
      "metadata": {
        "id": "5thMTBySlIaO"
      },
      "execution_count": null,
      "outputs": []
    },
    {
      "cell_type": "markdown",
      "source": [
        "(3) reshape\n",
        "- 배열 항목의 수가 같을 때 다른 차원으로 변형이 가능함."
      ],
      "metadata": {
        "id": "xtVoEe-2mRn0"
      }
    },
    {
      "cell_type": "code",
      "source": [
        "m = np.arange(8)\n",
        "m"
      ],
      "metadata": {
        "id": "0X3zBD4AmY7_"
      },
      "execution_count": null,
      "outputs": []
    },
    {
      "cell_type": "markdown",
      "source": [
        "(4) 인덱싱과 슬라이싱\n",
        "- 배열의 인덱스는 0부터 시작함.\n",
        "- 배열의 인덱스를 활용하여 값을 찾아내거나 배열의 일부분을 가져올 수 있음.\n",
        "- boolean indexing: Boolean Mask를 이용하여 원하는 값을 추출하는 것."
      ],
      "metadata": {
        "id": "BJzt7JIBmgOt"
      }
    },
    {
      "cell_type": "code",
      "source": [
        "n = np.arange(7)\n",
        "n"
      ],
      "metadata": {
        "id": "FscYtm59mx6q"
      },
      "execution_count": null,
      "outputs": []
    },
    {
      "cell_type": "markdown",
      "source": [
        "#<Numpy 실습>"
      ],
      "metadata": {
        "id": "6IP7uOOJqgUU"
      }
    },
    {
      "cell_type": "code",
      "source": [
        "import numpy as np"
      ],
      "metadata": {
        "id": "iHm1mRVzeMXS"
      },
      "execution_count": null,
      "outputs": []
    },
    {
      "cell_type": "code",
      "source": [
        "from google.colab import drive\n",
        "drive.mount('/content/drive/')"
      ],
      "metadata": {
        "id": "_vH3UPXYeRqW"
      },
      "execution_count": null,
      "outputs": []
    },
    {
      "cell_type": "code",
      "source": [
        "file = '/content/drive/MyDrive/Colab Notebooks/input/Pokemon_np.csv'\n",
        "data = np.loadtxt(file, delimiter=',', dtype=np.int32)"
      ],
      "metadata": {
        "id": "jBv2AovNe1Lu"
      },
      "execution_count": null,
      "outputs": []
    },
    {
      "cell_type": "code",
      "source": [
        "data"
      ],
      "metadata": {
        "id": "TmNOmZV_gReA"
      },
      "execution_count": null,
      "outputs": []
    },
    {
      "cell_type": "code",
      "source": [
        "data[0]"
      ],
      "metadata": {
        "id": "8cyeOBGfhRKi"
      },
      "execution_count": null,
      "outputs": []
    },
    {
      "cell_type": "code",
      "source": [
        "data.shape"
      ],
      "metadata": {
        "id": "MPbbykxFhT9C"
      },
      "execution_count": null,
      "outputs": []
    },
    {
      "cell_type": "code",
      "source": [
        "data[:5]"
      ],
      "metadata": {
        "id": "CtM0fAMnhWA6"
      },
      "execution_count": null,
      "outputs": []
    },
    {
      "cell_type": "code",
      "source": [
        "data[:,1]"
      ],
      "metadata": {
        "id": "w_wbGz_dh_aw"
      },
      "execution_count": null,
      "outputs": []
    },
    {
      "cell_type": "code",
      "source": [
        "np.max(data[:,1])"
      ],
      "metadata": {
        "id": "vVUgnAVkhY0X"
      },
      "execution_count": null,
      "outputs": []
    },
    {
      "cell_type": "code",
      "source": [
        "data[0, 2:8]"
      ],
      "metadata": {
        "id": "VT_vZpJhiEo2"
      },
      "execution_count": null,
      "outputs": []
    },
    {
      "cell_type": "code",
      "source": [
        "np.sum(data[0, 2:8])"
      ],
      "metadata": {
        "id": "MxBlh4IQiVh8"
      },
      "execution_count": null,
      "outputs": []
    },
    {
      "cell_type": "code",
      "source": [
        "a = data[data[:,1]>500]\n",
        "a"
      ],
      "metadata": {
        "id": "-zAo1amnihcm"
      },
      "execution_count": null,
      "outputs": []
    },
    {
      "cell_type": "code",
      "source": [
        "a.shape"
      ],
      "metadata": {
        "id": "1j5BYE2xiyRw"
      },
      "execution_count": null,
      "outputs": []
    }
  ]
}