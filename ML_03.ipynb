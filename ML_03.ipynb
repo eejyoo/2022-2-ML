{
  "nbformat": 4,
  "nbformat_minor": 0,
  "metadata": {
    "colab": {
      "provenance": [],
      "collapsed_sections": [],
      "authorship_tag": "ABX9TyODyfCwKzOoAfPkyLYdZQTT",
      "include_colab_link": true
    },
    "kernelspec": {
      "name": "python3",
      "display_name": "Python 3"
    },
    "language_info": {
      "name": "python"
    }
  },
  "cells": [
    {
      "cell_type": "markdown",
      "metadata": {
        "id": "view-in-github",
        "colab_type": "text"
      },
      "source": [
        "<a href=\"https://colab.research.google.com/github/eejyoo/2022-2-ML/blob/main/ML_03.ipynb\" target=\"_parent\"><img src=\"https://colab.research.google.com/assets/colab-badge.svg\" alt=\"Open In Colab\"/></a>"
      ]
    },
    {
      "cell_type": "markdown",
      "source": [
        "#2.데이터 다루기(2) "
      ],
      "metadata": {
        "id": "E0gU5ZWMLndl"
      }
    },
    {
      "cell_type": "markdown",
      "source": [
        "#Pandas 프로그래밍"
      ],
      "metadata": {
        "id": "iFBbfg6iq6zn"
      }
    },
    {
      "cell_type": "markdown",
      "source": [
        "*   데이터 조작 및 분석을 위한 파이썬 라이브러리\n",
        "*   Series와 DataFrame 형태로 데이터를 다룸."
      ],
      "metadata": {
        "id": "nO7Cb2K6omR9"
      }
    },
    {
      "cell_type": "markdown",
      "source": [
        "(1) Series\n",
        "\n",
        "\n",
        "*   Numpy array가 보강된 형태로, data와 index를 가지고 있음.\n",
        "*   하나의 컬럼만 가짐.\n",
        "*   data와 index 매개변수를 각각 넣어주는 방법 / dictionary를 매개변수로 넣어주는 방법\n",
        "\n"
      ],
      "metadata": {
        "id": "34d9LMLPorIR"
      }
    },
    {
      "cell_type": "code",
      "source": [
        "''' 딕셔너리 값\n",
        "korea : 5180\n",
        "japan : 12718\n",
        "china : 141500\n",
        "usa : 32676\n",
        "'''\n",
        "\n",
        "import numpy as np\n",
        "import pandas as pd"
      ],
      "metadata": {
        "id": "-9jBog1SrHmK"
      },
      "execution_count": null,
      "outputs": []
    },
    {
      "cell_type": "code",
      "source": [
        "country = pd.Series([5180, 12718, 141500, 32676], index=['korea', 'japan', 'china', 'usa'])\n",
        "country"
      ],
      "metadata": {
        "id": "rOP2mqZzovvg"
      },
      "execution_count": null,
      "outputs": []
    },
    {
      "cell_type": "markdown",
      "source": [
        "(2) DataFrame\n",
        "\n",
        "*   여러 개의 컬럼 값을 가짐."
      ],
      "metadata": {
        "id": "la4MYGZ2q2t8"
      }
    },
    {
      "cell_type": "code",
      "source": [
        "population_dict = {\n",
        "    'korea': 5180,\n",
        "    'japan': 12718,\n",
        "    'china': 141500,\n",
        "    'usa': 32676\n",
        "}\n",
        "population = pd.Series(population_dict)\n",
        "population"
      ],
      "metadata": {
        "id": "MW5lwY5qq8lf"
      },
      "execution_count": null,
      "outputs": []
    },
    {
      "cell_type": "code",
      "source": [
        "gdp_dict = {\n",
        "    'korea': 169320000,\n",
        "    'japan': 516700000,\n",
        "    'china': 1409250000,\n",
        "    'usa': 2041280000\n",
        "}\n",
        "gdp = pd.Series(gdp_dict)\n",
        "gdp"
      ],
      "metadata": {
        "id": "Iu-yML9CrBE4"
      },
      "execution_count": null,
      "outputs": []
    },
    {
      "cell_type": "code",
      "source": [
        "country = pd.DataFrame({\n",
        "    'population': population,\n",
        "    'gdp': gdp\n",
        "})\n",
        "country"
      ],
      "metadata": {
        "id": "vBMpveZ2rFg6"
      },
      "execution_count": null,
      "outputs": []
    },
    {
      "cell_type": "markdown",
      "source": [
        "\n",
        "\n",
        "*   새로운 컬럼 추가하기\n",
        " - 기본 값은 NaN(Not a Number)\n"
      ],
      "metadata": {
        "id": "LWNQMq-gq6-b"
      }
    },
    {
      "cell_type": "code",
      "source": [
        "gdp_per_capita = country['gdp'] / country['population']\n",
        "country['gdp_per_capita'] = gdp_per_capita\n",
        "country"
      ],
      "metadata": {
        "id": "idBjiGsjrNxV"
      },
      "execution_count": null,
      "outputs": []
    },
    {
      "cell_type": "markdown",
      "source": [
        "* 데이터프레임 값으로 정렬하기"
      ],
      "metadata": {
        "id": "DE7AHO9ArVXz"
      }
    },
    {
      "cell_type": "code",
      "source": [
        "raw_data = {'성': ['손', '이', '류', '김'],\n",
        "           '이름': ['흥민', '강인', '현진', '광현'],\n",
        "           '나이': [27, 19, 32, 31],\n",
        "            '팀': ['Tottenham', 'Valencia', 'Toronto', 'Saint Louis']}\n",
        "df = pd.DataFrame(raw_data)\n",
        "df"
      ],
      "metadata": {
        "id": "RtJZQyturZpe"
      },
      "execution_count": null,
      "outputs": []
    },
    {
      "cell_type": "code",
      "source": [
        "# '성'을 기준으로 오름차순으로 정렬하기"
      ],
      "metadata": {
        "id": "Do-8rrFKraks"
      },
      "execution_count": null,
      "outputs": []
    },
    {
      "cell_type": "code",
      "source": [
        "# '나이'를 기준으로 내림차순으로 정렬하기"
      ],
      "metadata": {
        "id": "KKU_lqYnro1h"
      },
      "execution_count": null,
      "outputs": []
    },
    {
      "cell_type": "markdown",
      "source": [
        "(3) 집계함수"
      ],
      "metadata": {
        "id": "ToDeCO93rvny"
      }
    },
    {
      "cell_type": "code",
      "source": [
        "import numpy as np\n",
        "import pandas as pd\n",
        "\n",
        "data = {\n",
        "    'korean': [50,60,70],\n",
        "    'math': [10,np.nan,40]\n",
        "}\n",
        "\n",
        "df = pd.DataFrame(data, index=['a', 'b', 'c'])\n",
        "df"
      ],
      "metadata": {
        "id": "UIIbZq0wrqyP"
      },
      "execution_count": null,
      "outputs": []
    },
    {
      "cell_type": "code",
      "source": [
        "# 각 컬럼별 데이터 개수 구하기"
      ],
      "metadata": {
        "id": "pLJenYYkrzvK"
      },
      "execution_count": null,
      "outputs": []
    },
    {
      "cell_type": "code",
      "source": [
        "# 각 행별 데이터 개수 구하기"
      ],
      "metadata": {
        "id": "2t0cMBXhr2dF"
      },
      "execution_count": null,
      "outputs": []
    },
    {
      "cell_type": "code",
      "source": [
        "# 각 컬럼별 최댓값 구하기"
      ],
      "metadata": {
        "id": "TRlFy0dWr4ZM"
      },
      "execution_count": null,
      "outputs": []
    },
    {
      "cell_type": "code",
      "source": [
        "# 각 컬럼별 최솟값 구하기"
      ],
      "metadata": {
        "id": "4D_wwMoMr6Ag"
      },
      "execution_count": null,
      "outputs": []
    },
    {
      "cell_type": "code",
      "source": [
        "# 각 컬럼별 합계 구하기"
      ],
      "metadata": {
        "id": "F70fvVxEr7fu"
      },
      "execution_count": null,
      "outputs": []
    },
    {
      "cell_type": "code",
      "source": [
        "# 컬럼의 최솟값으로 NaN 값 대체하기"
      ],
      "metadata": {
        "id": "XMNR5ko1r9LI"
      },
      "execution_count": null,
      "outputs": []
    },
    {
      "cell_type": "code",
      "source": [
        "# 각 컬럼별 평균 구하기"
      ],
      "metadata": {
        "id": "hZ_AblgPr-bQ"
      },
      "execution_count": null,
      "outputs": []
    },
    {
      "cell_type": "markdown",
      "source": [
        "#시각화"
      ],
      "metadata": {
        "id": "xgHWLl8Bq_C1"
      }
    },
    {
      "cell_type": "markdown",
      "source": [
        "* Matplotlib\n",
        "https://wikidocs.net/92071\n",
        "* Seaborn\n",
        "https://wikidocs.net/86290"
      ],
      "metadata": {
        "id": "GnFAxoierINh"
      }
    },
    {
      "cell_type": "markdown",
      "source": [
        "#종합 연습"
      ],
      "metadata": {
        "id": "yYbhDRfbrCc4"
      }
    },
    {
      "cell_type": "code",
      "source": [],
      "metadata": {
        "id": "308mtcAj0GH2"
      },
      "execution_count": null,
      "outputs": []
    },
    {
      "cell_type": "code",
      "source": [],
      "metadata": {
        "id": "MTZ5zUzA0GBQ"
      },
      "execution_count": null,
      "outputs": []
    }
  ]
}