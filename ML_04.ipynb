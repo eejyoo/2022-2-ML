{
  "nbformat": 4,
  "nbformat_minor": 0,
  "metadata": {
    "colab": {
      "provenance": [],
      "collapsed_sections": [],
      "authorship_tag": "ABX9TyNiMoc35h0KkZdEA8waPwUr",
      "include_colab_link": true
    },
    "kernelspec": {
      "name": "python3",
      "display_name": "Python 3"
    },
    "language_info": {
      "name": "python"
    }
  },
  "cells": [
    {
      "cell_type": "markdown",
      "metadata": {
        "id": "view-in-github",
        "colab_type": "text"
      },
      "source": [
        "<a href=\"https://colab.research.google.com/github/eejyoo/2022-2-ML/blob/main/ML_04.ipynb\" target=\"_parent\"><img src=\"https://colab.research.google.com/assets/colab-badge.svg\" alt=\"Open In Colab\"/></a>"
      ]
    },
    {
      "cell_type": "markdown",
      "source": [
        "# 4. 시각화"
      ],
      "metadata": {
        "id": "hr0Z3DlPbNz7"
      }
    },
    {
      "cell_type": "markdown",
      "source": [
        "(1) 필요한 라이브러리 가져오기"
      ],
      "metadata": {
        "id": "Io0SVZDrbTUA"
      }
    },
    {
      "cell_type": "code",
      "execution_count": null,
      "metadata": {
        "id": "vMURZTu1bK--"
      },
      "outputs": [],
      "source": [
        "# 라이브러리 import\n",
        "import pandas as pd\n",
        "import numpy as np\n",
        "import matplotlib.pyplot as plt\n",
        "import seaborn as sns"
      ]
    },
    {
      "cell_type": "markdown",
      "source": [
        "(2) 한글 폰트 설치하기"
      ],
      "metadata": {
        "id": "baNgBGnrcJtb"
      }
    },
    {
      "cell_type": "code",
      "source": [
        "# 테스트\n",
        "plt.plot([1,2,3,4])\n",
        "plt.title(\"한글테스트\", fontsize=13)\n",
        "plt.xticks(np.arange(0,4,1),['하나','둘','셋','넷'], fontsize=12)\n",
        "plt.xlabel(\"x축\", fontsize=12)\n",
        "plt.ylabel(\"y축\", fontsize=12)\n",
        "plt.show()"
      ],
      "metadata": {
        "id": "OGVJosbDcKpZ"
      },
      "execution_count": null,
      "outputs": []
    },
    {
      "cell_type": "code",
      "source": [
        "import matplotlib as mpl # 기본 환경 설정 \n",
        "import matplotlib.font_manager as fm  # 폰트 관련 용도\n",
        "\n",
        "# 한글폰트 설치\n",
        "!apt-get install fonts-nanum -qq > /dev/null\n",
        "!fc-cache -fv > /dev/null\n",
        "fm._rebuild()\n",
        "\n",
        "findfont = mpl.font_manager.fontManager.findfont\n",
        "mpl.font_manager.findfont = findfont\n",
        "mpl.backends.backend_agg.findfont = findfont"
      ],
      "metadata": {
        "id": "1NOHZKG-cbwy"
      },
      "execution_count": null,
      "outputs": []
    },
    {
      "cell_type": "code",
      "source": [
        "# 한글폰트 설정\n",
        "plt.rc('font', family = 'NanumGothic')"
      ],
      "metadata": {
        "id": "Vo6MyBhndXR8"
      },
      "execution_count": null,
      "outputs": []
    },
    {
      "cell_type": "code",
      "source": [
        "# 테스트\n",
        "plt.plot([1,2,3,4])\n",
        "plt.title(\"한글테스트\", fontsize=13)\n",
        "plt.xticks(np.arange(0,4,1),['하나','둘','셋','넷'], fontsize=12)\n",
        "plt.xlabel(\"x축\", fontsize=12)\n",
        "plt.ylabel(\"y축\", fontsize=12)\n",
        "plt.show()"
      ],
      "metadata": {
        "id": "JTy2H2cmdS53"
      },
      "execution_count": null,
      "outputs": []
    },
    {
      "cell_type": "markdown",
      "source": [
        "(3) 시각화 기본"
      ],
      "metadata": {
        "id": "4ufJzZhydmKB"
      }
    },
    {
      "cell_type": "markdown",
      "source": [
        "![image.png](data:image/png;base64,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)"
      ],
      "metadata": {
        "id": "WpVa2i57D9ut"
      }
    },
    {
      "cell_type": "code",
      "source": [
        "#위 그래프를 출력해보자."
      ],
      "metadata": {
        "id": "jkdAWYxOdeV2"
      },
      "execution_count": null,
      "outputs": []
    },
    {
      "cell_type": "code",
      "source": [
        "plt.title('차트제목')\n",
        "#plt.rcParams['figure.figsize'] = (10,4)\n",
        "#plt.rcParams['lines.linewidth'] = 4\n",
        "#plt.rcParams['axes.grid'] = False\n",
        "plt.plot([1,2,3,4],[2,4,10,8])\n",
        "plt.show()"
      ],
      "metadata": {
        "id": "oNP6xVkhsda8"
      },
      "execution_count": null,
      "outputs": []
    },
    {
      "cell_type": "code",
      "source": [
        "t = np.arange(0, 5, 0.2)\n",
        "\n",
        "# 빨간 대쉬, 파란 사각형, 녹색 삼각형\n",
        "plt.plot(t, t,'r--', t, t**2, 'bs', t, t**3, 'g^')\n",
        "plt.show()"
      ],
      "metadata": {
        "id": "0T908cJUtAZu"
      },
      "execution_count": null,
      "outputs": []
    },
    {
      "cell_type": "code",
      "source": [
        "# 범례위치\n",
        "plt.plot([1,2,3,4],[1,10,1,10], label='범례1')\n",
        "#plt.legend(loc=(0.8,0.8)) \n",
        "plt.legend() # 최적\n",
        "plt.show()"
      ],
      "metadata": {
        "id": "2S88wmdjtOvp"
      },
      "execution_count": null,
      "outputs": []
    },
    {
      "cell_type": "markdown",
      "source": [
        "(4) Matplotlib의 그래프 종류"
      ],
      "metadata": {
        "id": "cSteA3feuQ2d"
      }
    },
    {
      "cell_type": "markdown",
      "source": [
        "![image.png](data:image/png;base64,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)"
      ],
      "metadata": {
        "id": "7QteJgsAIle7"
      }
    },
    {
      "cell_type": "code",
      "source": [
        "# 리스트 형식의 막대그래프\n"
      ],
      "metadata": {
        "id": "sGhrnJkytqFE"
      },
      "execution_count": null,
      "outputs": []
    },
    {
      "cell_type": "code",
      "source": [
        "# 딕셔너리 형식의 막대그래프\n",
        "dict1 ={'index':['사과','바나나','키위','방울토마토'],\n",
        "        'data':[10, 3, 5, 20]}\n",
        "lstColor = ['pink','b','skyblue','#e35f62']\n"
      ],
      "metadata": {
        "id": "yhIht9kr57rm"
      },
      "execution_count": null,
      "outputs": []
    },
    {
      "cell_type": "code",
      "source": [
        "# 막대그래프\n"
      ],
      "metadata": {
        "id": "pjjGpNoq6pKh"
      },
      "execution_count": null,
      "outputs": []
    },
    {
      "cell_type": "code",
      "source": [
        "# 파이 형식의 그래프\n"
      ],
      "metadata": {
        "id": "W0aDDqbw6hUO"
      },
      "execution_count": null,
      "outputs": []
    },
    {
      "cell_type": "code",
      "source": [
        "# 설정 변경\n"
      ],
      "metadata": {
        "id": "MfnSsUgu7Q3F"
      },
      "execution_count": null,
      "outputs": []
    },
    {
      "cell_type": "code",
      "source": [
        "# 산점도 점으로 표현하는 것(데이터 분류)\n",
        "# plt.plot([1,2,3,4],[10,3,4,8], marker = 'H', color='r')\n",
        "plt.plot([1,2,3,4],[10,3,4,8], 'rH-.') # 색상마커선모양\n",
        "plt.plot([1,2,3,4],[2,10,1,5], 'b1:')\n",
        "plt.plot([1,2,3,4],[5,4,2,3], 'yo')\n",
        "plt.show()"
      ],
      "metadata": {
        "id": "1dJb9yEe7acT"
      },
      "execution_count": null,
      "outputs": []
    },
    {
      "cell_type": "markdown",
      "source": [
        "https://datascienceschool.net/01%20python/05.02%20%EB%A7%B7%ED%94%8C%EB%A1%AF%EB%A6%AC%EB%B8%8C%EC%9D%98%20%EC%97%AC%EB%9F%AC%EA%B0%80%EC%A7%80%20%ED%94%8C%EB%A1%AF.html"
      ],
      "metadata": {
        "id": "V97juLQI7hZe"
      }
    },
    {
      "cell_type": "markdown",
      "source": [
        "#Pandas의 시각화 연습"
      ],
      "metadata": {
        "id": "3rQOOJrJ7lqu"
      }
    },
    {
      "cell_type": "markdown",
      "source": [
        "## 1단계 : 데이터 가져오기\n",
        "- 기상자료개방포털 --> https://data.kma.go.kr/climate/RankState/selectRankStatisticsDivisionList.do?pgmNo=179"
      ],
      "metadata": {
        "id": "9_Xuxf5w7yDp"
      }
    },
    {
      "cell_type": "code",
      "source": [
        "from google.colab import drive\n",
        "drive.mount('/content/drive')"
      ],
      "metadata": {
        "id": "gX00vxT729UA"
      },
      "execution_count": null,
      "outputs": []
    },
    {
      "cell_type": "code",
      "source": [
        "# 데이터 가져오기"
      ],
      "metadata": {
        "id": "O2JHdVrc4DIu"
      },
      "execution_count": null,
      "outputs": []
    },
    {
      "cell_type": "markdown",
      "source": [
        "# 2단계 : 데이터 전처리"
      ],
      "metadata": {
        "id": "Br_WGF2c71uy"
      }
    },
    {
      "cell_type": "code",
      "source": [
        "# 처음 데이터 5개 살펴보기"
      ],
      "metadata": {
        "id": "IhM1p04t4nx0"
      },
      "execution_count": null,
      "outputs": []
    },
    {
      "cell_type": "code",
      "source": [
        "# 데이터의 모양"
      ],
      "metadata": {
        "id": "lhapS_Xr4wHo"
      },
      "execution_count": null,
      "outputs": []
    },
    {
      "cell_type": "code",
      "source": [
        "# 마지막 데이터 10개 살펴보기"
      ],
      "metadata": {
        "id": "ouVtALfu4yOO"
      },
      "execution_count": null,
      "outputs": []
    },
    {
      "cell_type": "code",
      "source": [
        "# 데이터의 정보 알아보기"
      ],
      "metadata": {
        "id": "IM5M7kX342X0"
      },
      "execution_count": null,
      "outputs": []
    },
    {
      "cell_type": "code",
      "source": [
        "# 데이터의 대략적인 통계값"
      ],
      "metadata": {
        "id": "f3u9E07844Gl"
      },
      "execution_count": null,
      "outputs": []
    },
    {
      "cell_type": "code",
      "source": [
        "# 필요없는 열 삭제"
      ],
      "metadata": {
        "id": "qaGBKGYO47SH"
      },
      "execution_count": null,
      "outputs": []
    },
    {
      "cell_type": "code",
      "source": [
        "# 필요없는 행 삭제"
      ],
      "metadata": {
        "id": "qtZ79LRd6Pnl"
      },
      "execution_count": null,
      "outputs": []
    },
    {
      "cell_type": "markdown",
      "source": [
        "# 3단계 : 데이터 탐색과 변환"
      ],
      "metadata": {
        "id": "dhIbN0bs7vab"
      }
    },
    {
      "cell_type": "code",
      "source": [
        "# 최고기온 구하기"
      ],
      "metadata": {
        "id": "6Gqum-fG8Fs2"
      },
      "execution_count": null,
      "outputs": []
    },
    {
      "cell_type": "code",
      "source": [
        "# 최고기온이 언제인지 구하기"
      ],
      "metadata": {
        "id": "fJ6CSax5-PXh"
      },
      "execution_count": null,
      "outputs": []
    },
    {
      "cell_type": "code",
      "source": [
        "# 최고로 추웠던 달과 최저기온 구하기"
      ],
      "metadata": {
        "id": "wj_6R-PQCV5U"
      },
      "execution_count": null,
      "outputs": []
    },
    {
      "cell_type": "markdown",
      "source": [
        "# 4단계 : 데이터 시각화"
      ],
      "metadata": {
        "id": "khMGGvL0CanV"
      }
    },
    {
      "cell_type": "code",
      "source": [
        "# 한글폰트\n",
        "# 음수설정\n",
        "plt.rc('font', family = 'NanumGothic')\n",
        "plt.rc('axes', unicode_minus = False)"
      ],
      "metadata": {
        "id": "k-2yQv3HCeom"
      },
      "execution_count": null,
      "outputs": []
    },
    {
      "cell_type": "code",
      "source": [],
      "metadata": {
        "id": "3QtdD285Jh_3"
      },
      "execution_count": null,
      "outputs": []
    }
  ]
}