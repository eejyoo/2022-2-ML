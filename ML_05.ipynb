{
  "nbformat": 4,
  "nbformat_minor": 0,
  "metadata": {
    "kernelspec": {
      "display_name": "Python 3",
      "language": "python",
      "name": "python3"
    },
    "language_info": {
      "codemirror_mode": {
        "name": "ipython",
        "version": 3
      },
      "file_extension": ".py",
      "mimetype": "text/x-python",
      "name": "python",
      "nbconvert_exporter": "python",
      "pygments_lexer": "ipython3",
      "version": "3.7.3"
    },
    "colab": {
      "provenance": [],
      "collapsed_sections": [],
      "include_colab_link": true
    }
  },
  "cells": [
    {
      "cell_type": "markdown",
      "metadata": {
        "id": "view-in-github",
        "colab_type": "text"
      },
      "source": [
        "<a href=\"https://colab.research.google.com/github/eejyoo/2022-2-ML/blob/main/ML_05.ipynb\" target=\"_parent\"><img src=\"https://colab.research.google.com/assets/colab-badge.svg\" alt=\"Open In Colab\"/></a>"
      ]
    },
    {
      "cell_type": "markdown",
      "metadata": {
        "id": "cOi3yCag6fsp"
      },
      "source": [
        "# Pandas 직접 실습해보기\n",
        "- 데이터출처: https://earthquake.usgs.gov/earthquakes/map/"
      ]
    },
    {
      "cell_type": "markdown",
      "metadata": {
        "id": "62jh0Q-C6fsr"
      },
      "source": [
        "#### 1. pandas의 read_csv()를 이용해 파일을 읽어온다\n",
        "- 파일명: earthquake.csv"
      ]
    },
    {
      "cell_type": "code",
      "metadata": {
        "id": "QKFLlcsw6fst"
      },
      "source": [
        "from google.colab import drive\n",
        "drive.mount('/content/drive')"
      ],
      "execution_count": null,
      "outputs": []
    },
    {
      "cell_type": "code",
      "source": [],
      "metadata": {
        "id": "HtTEPCkyw7EA"
      },
      "execution_count": null,
      "outputs": []
    },
    {
      "cell_type": "markdown",
      "metadata": {
        "id": "HzpMJLy26fs2"
      },
      "source": [
        "#### 2. head()와 info()를 이용해 데이터를 확인하시오."
      ]
    },
    {
      "cell_type": "code",
      "metadata": {
        "id": "WyQakFpH6fs3"
      },
      "source": [],
      "execution_count": null,
      "outputs": []
    },
    {
      "cell_type": "code",
      "metadata": {
        "id": "77aPRGJq6fs-"
      },
      "source": [],
      "execution_count": null,
      "outputs": []
    },
    {
      "cell_type": "markdown",
      "metadata": {
        "id": "xVMOkPOw6ftE"
      },
      "source": [
        "#### 3. describe()를 이용해 각 컬럼별 기초 통계자료를 확인하시오."
      ]
    },
    {
      "cell_type": "code",
      "metadata": {
        "id": "59Vk2Qk66ftF"
      },
      "source": [],
      "execution_count": null,
      "outputs": []
    },
    {
      "cell_type": "markdown",
      "metadata": {
        "id": "ilMc4WEv6ftL"
      },
      "source": [
        "#### 4. sort_values()를 이용해 지진 강도 top 5를 확인한다.\n",
        "\n"
      ]
    },
    {
      "cell_type": "code",
      "metadata": {
        "id": "bGCkun9B6ftM"
      },
      "source": [],
      "execution_count": null,
      "outputs": []
    },
    {
      "cell_type": "markdown",
      "metadata": {
        "id": "wCrYdhIA6ftb"
      },
      "source": [
        "#### 5. 지진 횟수가 가장 많은 5개 국가/주를 찾으시오."
      ]
    },
    {
      "cell_type": "code",
      "metadata": {
        "id": "pF5zFwdq6ftc"
      },
      "source": [],
      "execution_count": null,
      "outputs": []
    },
    {
      "cell_type": "markdown",
      "metadata": {
        "id": "G3Ts_7CE6fth"
      },
      "source": [
        "#### 6. 지진 강도 6 이상인 데이터셋만 추출한다 "
      ]
    },
    {
      "cell_type": "code",
      "metadata": {
        "id": "Mnc1M4GY6fti"
      },
      "source": [],
      "execution_count": null,
      "outputs": []
    },
    {
      "cell_type": "code",
      "source": [
        "# latitude가 30 이상 50 미만인 데이터셋을 구하기\n",
        "# and ->> & 사용"
      ],
      "metadata": {
        "id": "JFzcTFKI1S0z"
      },
      "execution_count": null,
      "outputs": []
    },
    {
      "cell_type": "markdown",
      "metadata": {
        "id": "Uff2-idc6ftn"
      },
      "source": [
        "#### 7. 지진 강도에 따른 횟수의 분포를 분석해본다.\n",
        "- fig, ax = plt.subplots()\n",
        "- data.hist('mag', bins=30, ax=ax)"
      ]
    },
    {
      "cell_type": "code",
      "metadata": {
        "id": "TPsQ2vcK6fto"
      },
      "source": [],
      "execution_count": null,
      "outputs": []
    },
    {
      "cell_type": "markdown",
      "metadata": {
        "id": "n3oawd_D6ftu"
      },
      "source": [
        "#### 8. latitude와 longitude 데이터로 scatterplot을 만들어 지진 위치를 시각화하시오.\n",
        "- 지진 강도에 색을 입히고 가능한 이쁘게 만들어 보세요."
      ]
    },
    {
      "cell_type": "code",
      "source": [],
      "metadata": {
        "id": "wExzyKjB3pJq"
      },
      "execution_count": null,
      "outputs": []
    }
  ]
}