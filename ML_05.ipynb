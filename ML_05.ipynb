{
  "nbformat": 4,
  "nbformat_minor": 0,
  "metadata": {
    "colab": {
      "provenance": [],
      "collapsed_sections": [],
      "authorship_tag": "ABX9TyOmOi5yh3fdjVogYBaeCm6R",
      "include_colab_link": true
    },
    "kernelspec": {
      "name": "python3",
      "display_name": "Python 3"
    },
    "language_info": {
      "name": "python"
    }
  },
  "cells": [
    {
      "cell_type": "markdown",
      "metadata": {
        "id": "view-in-github",
        "colab_type": "text"
      },
      "source": [
        "<a href=\"https://colab.research.google.com/github/eejyoo/2022-2-ML/blob/main/ML_05.ipynb\" target=\"_parent\"><img src=\"https://colab.research.google.com/assets/colab-badge.svg\" alt=\"Open In Colab\"/></a>"
      ]
    },
    {
      "cell_type": "markdown",
      "source": [
        "# 분류"
      ],
      "metadata": {
        "id": "K1vE5-8vCfez"
      }
    },
    {
      "cell_type": "markdown",
      "source": [
        "- 주어진 입력 값이 어떤 클래스에 속할지에 대한 결과 값을 도출하는 알고리즘.\n",
        "- 다양한 분류 알고리즘이 존재하며, 예측 목표와 데이터 유형에 따라 적용.\n",
        "- 종류<br>\n",
        "(1) 트리 구조 기반: 의사결정나무, 랜덤포레스트,...<br>\n",
        "(2) 확률 모델 기반: 나이브 베이즈 분류기, ...<br>\n",
        "(3) 결정 경계 기반: 선형 분류기, 로지스틱 회귀 분류기, SVM, ...<br>\n",
        "(4) 신경망: 퍼셉트론, 딥러닝 모델, ...<br>\n",
        "- 분류 평가 지표<br>\n",
        "(1) 분류 결과를 전체적으로 보고 싶다면: <b>혼동 행렬</b><br>\n",
        "(2) 정답을 얼마나 잘 맞췄는지: <b>정확도</b> - 전체 데이터 중에서 제대로 분류된 데이터의 비율로 모델이 얼마나 정확하게 분류하는지를 나타냄,<br>\n",
        "&nbsp;&nbsp;&nbsp;&nbsp;&nbsp;&nbsp;&nbsp;&nbsp;&nbsp;&nbsp;&nbsp;&nbsp;&nbsp;&nbsp;&nbsp;&nbsp;&nbsp;&nbsp;&nbsp;&nbsp;&nbsp;&nbsp;&nbsp;&nbsp;&nbsp;&nbsp;&nbsp;&nbsp;&nbsp;&nbsp;&nbsp;&nbsp;&nbsp;&nbsp;&nbsp;&nbsp;&nbsp;&nbsp;&nbsp;&nbsp;&nbsp;&nbsp;&nbsp;&nbsp;&nbsp;&nbsp;&nbsp;&nbsp;&nbsp;&nbsp;&nbsp;&nbsp;&nbsp;&nbsp;&nbsp;클래스 비율이 불균형할 경우 평가 지표의 신뢰성을 잃을 가능성이 있음.<br>\n",
        "(3) FP 또는 FN의 중요도가 높다면: <b>정밀도, 재현율</b>\n",
        "\n"
      ],
      "metadata": {
        "id": "wwV1CuX611uU"
      }
    },
    {
      "cell_type": "markdown",
      "source": [
        "# 라이브러리, 파일 불러오기"
      ],
      "metadata": {
        "id": "3GDTYWAUCpJK"
      }
    },
    {
      "cell_type": "code",
      "execution_count": null,
      "metadata": {
        "id": "FsA30yMSwomF"
      },
      "outputs": [],
      "source": [
        "import numpy as np\n",
        "import pandas as pd\n",
        "import matplotlib.pyplot as plt\n",
        "import seaborn as sns"
      ]
    },
    {
      "cell_type": "code",
      "source": [
        "from google.colab import drive\n",
        "drive.mount('/content/drive')"
      ],
      "metadata": {
        "id": "82fNyHr_yKhs"
      },
      "execution_count": null,
      "outputs": []
    },
    {
      "cell_type": "code",
      "source": [
        "data = pd.read_csv('')\n",
        "print(plt.style.available)\n",
        "plt.style.use('ggplot')"
      ],
      "metadata": {
        "id": "xu28AYp5ynNq"
      },
      "execution_count": null,
      "outputs": []
    },
    {
      "cell_type": "markdown",
      "source": [
        "- 레이블이 있는 정형외과 환자 데이터(normal / abnormal)\n",
        "  - features: pelvic radius(골반 반경), sacral slope(천장 경사)\n",
        "  - target: normal, abnormal\n",
        "  - 목적: 주어진 features를 보고 normal 또는 abnormal을 예측하기\n",
        "  - Classification:분류, target이 카테고리임.\n",
        "  - Regression:회귀, target이 연속적임.\n",
        "  - features = predictor variable = independent variable = columns = inputs\n",
        "  -  target variable = responce variable = class = dependent variable = output = result\n",
        "\n",
        "\n",
        "\n",
        "\n"
      ],
      "metadata": {
        "id": "zl0D3A2RzURh"
      }
    },
    {
      "cell_type": "markdown",
      "source": [
        "#EXPLORATORY DATA ANALYSIS(EDA)\n",
        "- 데이터로 무언가 하고 싶다면 먼저 데이터에 대해 잘 알아야 함.\n",
        "- head(): 기본으로 5개의 데이터를 보여줌.\n"
      ],
      "metadata": {
        "id": "-HBtdZkV03vg"
      }
    },
    {
      "cell_type": "code",
      "source": [
        "# 처음 5개의 데이터 살펴보기"
      ],
      "metadata": {
        "id": "4Lk_Gpiz13u2"
      },
      "execution_count": null,
      "outputs": []
    },
    {
      "cell_type": "markdown",
      "source": [
        "- features: pelvic_incidence, pelvic_tilt numeric, lumbar_lordosis_angle, sacral_slope, pelvic_radius, degree_spondylolisthesis\n",
        "- target: class"
      ],
      "metadata": {
        "id": "N--z9AMs15sq"
      }
    },
    {
      "cell_type": "code",
      "source": [
        "# 데이터의 개수, 결측치 등 확인하기"
      ],
      "metadata": {
        "id": "BCJM0xQ_2VBs"
      },
      "execution_count": null,
      "outputs": []
    },
    {
      "cell_type": "markdown",
      "source": [
        "알 수 있는 점\n",
        "- length: 310\n",
        "- features Dtype: float(실수)\n",
        "- target Dtype: object(문자열)"
      ],
      "metadata": {
        "id": "TpTbolmk2a-2"
      }
    },
    {
      "cell_type": "code",
      "source": [
        "# 데이터의 기본 통계값 확인하기"
      ],
      "metadata": {
        "id": "DC6UW6yc3RMn"
      },
      "execution_count": null,
      "outputs": []
    },
    {
      "cell_type": "markdown",
      "source": [
        "pd.plotting.scatter_matrix:\n",
        "\n",
        "- green: normal and red: abnormal\n",
        "- c: color\n",
        "- figsize: figure size\n",
        "- diagonal: histohram of each features\n",
        "- alpha: opacity\n",
        "- s: size of marker\n",
        "- marker: marker type"
      ],
      "metadata": {
        "id": "lgp-myzo3V2Q"
      }
    },
    {
      "cell_type": "code",
      "source": [
        "color_list = ['red' if i=='Abnormal' else 'green' for i in data.loc[:,'class']]\n",
        "pd.plotting.scatter_matrix(data.loc[:, data.columns != 'class'],\n",
        "                                       c=color_list,\n",
        "                                       figsize= [15,15],\n",
        "                                       diagonal='hist',\n",
        "                                       alpha=0.5,\n",
        "                                       s = 200,\n",
        "                                       marker = '*',\n",
        "                                       edgecolor= \"black\")\n",
        "plt.show()"
      ],
      "metadata": {
        "id": "sConLJJt3gyy"
      },
      "execution_count": null,
      "outputs": []
    },
    {
      "cell_type": "code",
      "source": [
        "sns.countplot(x=\"class\", data=data)\n",
        "data.loc[:,'class'].value_counts()"
      ],
      "metadata": {
        "id": "HnaZXIiw36JE"
      },
      "execution_count": null,
      "outputs": []
    },
    {
      "cell_type": "markdown",
      "source": [
        "#K-NEAREST NEIGHBORS (KNN)\n",
        "- KNN: K개의 이웃데이터를 보고 분류하는 방법\n",
        "- fit(): 데이터를 훈련시킴(features와 target의 관계)\n",
        "- predict(): 새로운 데이터로 값을 예측함\n",
        "<br><br>\n",
        "- x: features\n",
        "- y: target variables(normal, abnormal)\n",
        "- n_neighbors: K. "
      ],
      "metadata": {
        "id": "GiPvlmaH4b_m"
      }
    },
    {
      "cell_type": "code",
      "source": [
        "# KNN 객체 만들기\n",
        "\n",
        "\n",
        "# x, y로 나누기\n",
        "x, y = data.loc[:, data.columns != 'class'], data.loc[:, 'class']\n",
        "# 훈련시키기\n"
      ],
      "metadata": {
        "id": "0lGUdNYP5Oic"
      },
      "execution_count": null,
      "outputs": []
    },
    {
      "cell_type": "code",
      "source": [
        "# 예측하기\n",
        "prediction = \n",
        "print('Prediction: {}'.format(prediction))"
      ],
      "metadata": {
        "id": "vm9NYyIB5i0S"
      },
      "execution_count": null,
      "outputs": []
    },
    {
      "cell_type": "code",
      "source": [
        "# 정확도 출력하기\n"
      ],
      "metadata": {
        "id": "YkXW4bZVLrjS"
      },
      "execution_count": null,
      "outputs": []
    },
    {
      "cell_type": "markdown",
      "source": [
        "정확하게 예측한 것일까? 무슨 문제가 있는가?\n",
        "<br><br>\n",
        "데이터를 train set 과 test set 으로 나눠야 한다.<br>\n",
        "- train: 훈련시킬 데이터\n",
        "- test: 예측을 잘 하는지 확인해보는 데이터\n",
        "- train set과 test set은 서로 전혀 다른 데이터여야 함.\n",
        "<br><br>\n",
        "- train_test_split(x,y,test_size = 0.3,random_state = 1)\n",
        " - x: features\n",
        " - y: target variables (normal,abnormal)\n",
        " - test_size: test set의 크기. test_size = 0.3이라면 test size = 30% and train size = 70%\n",
        " - random_state: 랜덤 결과를 같게 하기 위한 설정값\n",
        "- fit(x_train,y_train): train set으로 훈련시키기\n",
        "- score(x_test,y_test)): test set으로 예측하고 정확도(accuracy) 출력"
      ],
      "metadata": {
        "id": "01vL9wUh5qXQ"
      }
    },
    {
      "cell_type": "code",
      "source": [
        "# train 세트와 test 세트로 나누기\n",
        "\n",
        "\n",
        "knn = KNeighborsClassifier(n_neighbors=3)\n",
        "knn.fit()\n",
        "prediction = knn.predict()\n",
        "print('KNN(K=3) accuracy:', knn.score())"
      ],
      "metadata": {
        "id": "azI2xSvs9MiK"
      },
      "execution_count": null,
      "outputs": []
    },
    {
      "cell_type": "code",
      "source": [
        "for i in y_test:\n",
        "  print(i)"
      ],
      "metadata": {
        "id": "iKCm2y6pwo8z"
      },
      "execution_count": null,
      "outputs": []
    },
    {
      "cell_type": "code",
      "source": [
        "print(prediction)"
      ],
      "metadata": {
        "id": "usRfXaTY-Xoy"
      },
      "execution_count": null,
      "outputs": []
    },
    {
      "cell_type": "code",
      "source": [
        "x_test.shape"
      ],
      "metadata": {
        "id": "HuN53AOH-dSu"
      },
      "execution_count": null,
      "outputs": []
    },
    {
      "cell_type": "code",
      "source": [
        "print(knn.predict([[50.2, 29.8, 36.1, 20.4, 128.3, 5.7]]))"
      ],
      "metadata": {
        "id": "dDaghyNIDPXy"
      },
      "execution_count": null,
      "outputs": []
    },
    {
      "cell_type": "markdown",
      "source": [
        "- 가까운 몇 개의 데이터를 참고할까요?\n",
        " - 기본값은 5"
      ],
      "metadata": {
        "id": "1A_1zHu997Qy"
      }
    },
    {
      "cell_type": "code",
      "source": [
        "# Model complexity\n",
        "neig = np.arange(1, 25)\n",
        "train_accuracy = []\n",
        "test_accuracy = []\n",
        "# Loop over different values of k\n",
        "for i, k in enumerate(neig):\n",
        "    # k from 1 to 25(exclude)\n",
        "    knn = KNeighborsClassifier(n_neighbors=k)\n",
        "    # Fit with knn\n",
        "    knn.fit(x_train,y_train)\n",
        "    #train accuracy\n",
        "    train_accuracy.append(knn.score(x_train, y_train))\n",
        "    # test accuracy\n",
        "    test_accuracy.append(knn.score(x_test, y_test))\n",
        "\n",
        "# Plot\n",
        "plt.figure(figsize=[13,8])\n",
        "plt.plot(neig, test_accuracy, label = 'Testing Accuracy')\n",
        "plt.plot(neig, train_accuracy, label = 'Training Accuracy')\n",
        "plt.legend()\n",
        "plt.title('-value VS Accuracy')\n",
        "plt.xlabel('Number of Neighbors')\n",
        "plt.ylabel('Accuracy')\n",
        "plt.xticks(neig)\n",
        "plt.savefig('graph.png')\n",
        "plt.show()\n",
        "print(\"Best accuracy is {} with K = {}\".format(np.max(test_accuracy),1+test_accuracy.index(np.max(test_accuracy))))"
      ],
      "metadata": {
        "id": "OiLAw4E5_N9R"
      },
      "execution_count": null,
      "outputs": []
    },
    {
      "cell_type": "markdown",
      "source": [
        "# 여러 가지 분류 알고리즘"
      ],
      "metadata": {
        "id": "K6jYgeabC0y4"
      }
    },
    {
      "cell_type": "code",
      "source": [
        "# 로지스틱 회귀\n",
        "from sklearn.linear_model import LogisticRegression\n",
        "lr = LogisticRegression(C=20, max_iter=100)\n",
        "lr.fit(x_train, y_train)\n",
        "prediction = lr.predict(x_test)\n",
        "print('LR accuracy:', lr.score(x_test, y_test))"
      ],
      "metadata": {
        "id": "eCqxlIvFFMq1"
      },
      "execution_count": null,
      "outputs": []
    },
    {
      "cell_type": "code",
      "source": [
        "# 확률적 경사하강법\n",
        "from sklearn.linear_model import SGDClassifier\n",
        "sc = SGDClassifier(loss='log', max_iter=100, random_state=42)\n",
        "sc.fit(x_train, y_train)\n",
        "prediction = sc.predict(x_test)\n",
        "print('SC accuracy:', sc.score(x_test, y_test))"
      ],
      "metadata": {
        "id": "8EaeNkc7AMdo"
      },
      "execution_count": null,
      "outputs": []
    },
    {
      "cell_type": "code",
      "source": [
        "# 결정트리\n",
        "from sklearn.tree import DecisionTreeClassifier\n",
        "dt = DecisionTreeClassifier(max_depth=10, random_state=42)\n",
        "dt.fit(x_train, y_train)\n",
        "prediction = dt.predict(x_test)\n",
        "print('DT accuracy:', dt.score(x_test, y_test))"
      ],
      "metadata": {
        "id": "k9VZJ055EO_v"
      },
      "execution_count": null,
      "outputs": []
    },
    {
      "cell_type": "code",
      "source": [
        "# 앙상블: 랜덤포레스트\n",
        "from sklearn.ensemble import RandomForestClassifier\n",
        "rf = RandomForestClassifier(n_jobs=-1, random_state=42)\n",
        "rf.fit(x_train, y_train)\n",
        "prediction = rf.predict(x_test)\n",
        "print('RF accuracy:', rf.score(x_test, y_test))"
      ],
      "metadata": {
        "id": "MPubhvWCBqPx"
      },
      "execution_count": null,
      "outputs": []
    },
    {
      "cell_type": "markdown",
      "source": [
        "- 더 알아야 할 것: 교차검증"
      ],
      "metadata": {
        "id": "UYrk_n5dCT79"
      }
    },
    {
      "cell_type": "markdown",
      "source": [
        "- 그 외 분류 알고리즘\n",
        " - 엑스트라 트리, 그레이디언트 부스팅, XGBoost, LightBGM 등"
      ],
      "metadata": {
        "id": "eCTCFEJdCHsx"
      }
    }
  ]
}